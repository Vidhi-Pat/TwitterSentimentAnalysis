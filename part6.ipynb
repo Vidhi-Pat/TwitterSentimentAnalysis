{
 "cells": [
  {
   "cell_type": "code",
   "execution_count": 1,
   "metadata": {},
   "outputs": [],
   "source": [
    "import pandas as pd  \n",
    "import numpy as np\n",
    "import matplotlib.pyplot as plt\n",
    "plt.style.use('fivethirtyeight')\n",
    "\n",
    "%matplotlib inline\n",
    "%config InlineBackend.figure_format = 'retina'"
   ]
  },
  {
   "cell_type": "code",
   "execution_count": 2,
   "metadata": {},
   "outputs": [
    {
     "name": "stderr",
     "output_type": "stream",
     "text": [
      "C:\\ProgramData\\Anaconda3\\lib\\site-packages\\numpy\\lib\\arraysetops.py:472: FutureWarning: elementwise comparison failed; returning scalar instead, but in the future will perform elementwise comparison\n",
      "  mask |= (ar1 == a)\n"
     ]
    },
    {
     "data": {
      "text/html": [
       "<div>\n",
       "<style scoped>\n",
       "    .dataframe tbody tr th:only-of-type {\n",
       "        vertical-align: middle;\n",
       "    }\n",
       "\n",
       "    .dataframe tbody tr th {\n",
       "        vertical-align: top;\n",
       "    }\n",
       "\n",
       "    .dataframe thead th {\n",
       "        text-align: right;\n",
       "    }\n",
       "</style>\n",
       "<table border=\"1\" class=\"dataframe\">\n",
       "  <thead>\n",
       "    <tr style=\"text-align: right;\">\n",
       "      <th></th>\n",
       "      <th>text</th>\n",
       "      <th>target</th>\n",
       "    </tr>\n",
       "  </thead>\n",
       "  <tbody>\n",
       "    <tr>\n",
       "      <th>0</th>\n",
       "      <td>awww that s a bummer you shoulda got david car...</td>\n",
       "      <td>0</td>\n",
       "    </tr>\n",
       "    <tr>\n",
       "      <th>1</th>\n",
       "      <td>is upset that he can t update his facebook by ...</td>\n",
       "      <td>0</td>\n",
       "    </tr>\n",
       "    <tr>\n",
       "      <th>2</th>\n",
       "      <td>i dived many times for the ball managed to sav...</td>\n",
       "      <td>0</td>\n",
       "    </tr>\n",
       "    <tr>\n",
       "      <th>3</th>\n",
       "      <td>my whole body feels itchy and like its on fire</td>\n",
       "      <td>0</td>\n",
       "    </tr>\n",
       "    <tr>\n",
       "      <th>4</th>\n",
       "      <td>no it s not behaving at all i m mad why am i h...</td>\n",
       "      <td>0</td>\n",
       "    </tr>\n",
       "  </tbody>\n",
       "</table>\n",
       "</div>"
      ],
      "text/plain": [
       "                                                text  target\n",
       "0  awww that s a bummer you shoulda got david car...       0\n",
       "1  is upset that he can t update his facebook by ...       0\n",
       "2  i dived many times for the ball managed to sav...       0\n",
       "3     my whole body feels itchy and like its on fire       0\n",
       "4  no it s not behaving at all i m mad why am i h...       0"
      ]
     },
     "execution_count": 2,
     "metadata": {},
     "output_type": "execute_result"
    }
   ],
   "source": [
    "csv = 'clean_tweet.csv'\n",
    "my_df = pd.read_csv(csv,index_col=0)\n",
    "my_df.head()"
   ]
  },
  {
   "cell_type": "code",
   "execution_count": 3,
   "metadata": {},
   "outputs": [
    {
     "name": "stdout",
     "output_type": "stream",
     "text": [
      "<class 'pandas.core.frame.DataFrame'>\n",
      "RangeIndex: 1596753 entries, 0 to 1596752\n",
      "Data columns (total 2 columns):\n",
      "text      1596753 non-null object\n",
      "target    1596753 non-null int64\n",
      "dtypes: int64(1), object(1)\n",
      "memory usage: 24.4+ MB\n"
     ]
    }
   ],
   "source": [
    "my_df.dropna(inplace=True)\n",
    "my_df.reset_index(drop=True,inplace=True)\n",
    "my_df.info()"
   ]
  },
  {
   "cell_type": "code",
   "execution_count": 4,
   "metadata": {},
   "outputs": [],
   "source": [
    "x = my_df.text\n",
    "y = my_df.target"
   ]
  },
  {
   "cell_type": "code",
   "execution_count": 5,
   "metadata": {
    "collapsed": true
   },
   "outputs": [
    {
     "name": "stderr",
     "output_type": "stream",
     "text": [
      "C:\\ProgramData\\Anaconda3\\lib\\site-packages\\sklearn\\cross_validation.py:41: DeprecationWarning: This module was deprecated in version 0.18 in favor of the model_selection module into which all the refactored classes and functions are moved. Also note that the interface of the new CV iterators are different from that of this module. This module will be removed in 0.20.\n",
      "  \"This module will be removed in 0.20.\", DeprecationWarning)\n"
     ]
    }
   ],
   "source": [
    "from sklearn.cross_validation import train_test_split\n",
    "SEED = 2000\n",
    "x_train, x_validation_and_test, y_train, y_validation_and_test = train_test_split(x, y, test_size=.02, random_state=SEED)\n",
    "x_validation, x_test, y_validation, y_test = train_test_split(x_validation_and_test, y_validation_and_test, test_size=.5, random_state=SEED)"
   ]
  },
  {
   "cell_type": "code",
   "execution_count": 6,
   "metadata": {},
   "outputs": [],
   "source": [
    "from sklearn.linear_model import LogisticRegression"
   ]
  },
  {
   "cell_type": "code",
   "execution_count": 7,
   "metadata": {},
   "outputs": [],
   "source": [
    "from tqdm import tqdm\n",
    "tqdm.pandas(desc=\"progress-bar\")\n",
    "from gensim.models import Doc2Vec\n",
    "from gensim.models.doc2vec import LabeledSentence\n",
    "import multiprocessing\n",
    "from sklearn import utils"
   ]
  },
  {
   "cell_type": "code",
   "execution_count": 8,
   "metadata": {},
   "outputs": [],
   "source": [
    "def labelize_tweets_ug(tweets,label):\n",
    "    result = []\n",
    "    prefix = label\n",
    "    for i, t in zip(tweets.index, tweets):\n",
    "        result.append(LabeledSentence(t.split(), [prefix + '_%s' % i]))\n",
    "    return result"
   ]
  },
  {
   "cell_type": "code",
   "execution_count": 9,
   "metadata": {
    "collapsed": true
   },
   "outputs": [
    {
     "name": "stderr",
     "output_type": "stream",
     "text": [
      "C:\\ProgramData\\Anaconda3\\lib\\site-packages\\ipykernel_launcher.py:5: DeprecationWarning: Call to deprecated `LabeledSentence` (Class will be removed in 4.0.0, use TaggedDocument instead).\n",
      "  \"\"\"\n"
     ]
    }
   ],
   "source": [
    "all_x = pd.concat([x_train,x_validation,x_test])\n",
    "all_x_w2v = labelize_tweets_ug(all_x, 'all')"
   ]
  },
  {
   "cell_type": "code",
   "execution_count": 10,
   "metadata": {},
   "outputs": [
    {
     "data": {
      "text/plain": [
       "1596753"
      ]
     },
     "execution_count": 10,
     "metadata": {},
     "output_type": "execute_result"
    }
   ],
   "source": [
    "len(all_x_w2v)"
   ]
  },
  {
   "cell_type": "code",
   "execution_count": 11,
   "metadata": {
    "scrolled": true
   },
   "outputs": [
    {
     "name": "stderr",
     "output_type": "stream",
     "text": [
      "C:\\ProgramData\\Anaconda3\\lib\\site-packages\\gensim\\models\\doc2vec.py:580: UserWarning: The parameter `size` is deprecated, will be removed in 4.0.0, use `vector_size` instead.\n",
      "  warnings.warn(\"The parameter `size` is deprecated, will be removed in 4.0.0, use `vector_size` instead.\")\n",
      "100%|███████████████████████████████████████████████████████████████████| 1596753/1596753 [00:00<00:00, 4457852.11it/s]\n",
      "100%|███████████████████████████████████████████████████████████████████| 1596753/1596753 [00:00<00:00, 4410580.16it/s]\n",
      "100%|███████████████████████████████████████████████████████████████████| 1596753/1596753 [00:00<00:00, 4358758.62it/s]\n",
      "100%|███████████████████████████████████████████████████████████████████| 1596753/1596753 [00:00<00:00, 4497246.16it/s]\n",
      "100%|███████████████████████████████████████████████████████████████████| 1596753/1596753 [00:00<00:00, 4508878.71it/s]\n",
      "100%|███████████████████████████████████████████████████████████████████| 1596753/1596753 [00:00<00:00, 4530856.56it/s]\n",
      "100%|███████████████████████████████████████████████████████████████████| 1596753/1596753 [00:00<00:00, 4458356.60it/s]\n",
      "100%|███████████████████████████████████████████████████████████████████| 1596753/1596753 [00:00<00:00, 4508277.74it/s]\n",
      "100%|███████████████████████████████████████████████████████████████████| 1596753/1596753 [00:00<00:00, 4435408.67it/s]\n",
      "100%|███████████████████████████████████████████████████████████████████| 1596753/1596753 [00:00<00:00, 4496690.56it/s]\n",
      "100%|███████████████████████████████████████████████████████████████████| 1596753/1596753 [00:00<00:00, 4522091.66it/s]\n",
      "100%|███████████████████████████████████████████████████████████████████| 1596753/1596753 [00:00<00:00, 4431118.28it/s]\n",
      "100%|███████████████████████████████████████████████████████████████████| 1596753/1596753 [00:00<00:00, 4522094.72it/s]\n",
      "100%|███████████████████████████████████████████████████████████████████| 1596753/1596753 [00:00<00:00, 4509917.11it/s]\n",
      "100%|███████████████████████████████████████████████████████████████████| 1596753/1596753 [00:00<00:00, 4497240.12it/s]\n",
      "100%|███████████████████████████████████████████████████████████████████| 1596753/1596753 [00:00<00:00, 4509485.90it/s]\n",
      "100%|███████████████████████████████████████████████████████████████████| 1596753/1596753 [00:00<00:00, 4509543.59it/s]\n",
      "100%|███████████████████████████████████████████████████████████████████| 1596753/1596753 [00:00<00:00, 4497270.32it/s]\n",
      "100%|███████████████████████████████████████████████████████████████████| 1596753/1596753 [00:00<00:00, 4445754.92it/s]\n",
      "100%|███████████████████████████████████████████████████████████████████| 1596753/1596753 [00:00<00:00, 4484234.83it/s]\n",
      "100%|███████████████████████████████████████████████████████████████████| 1596753/1596753 [00:00<00:00, 4509908.00it/s]\n",
      "100%|███████████████████████████████████████████████████████████████████| 1596753/1596753 [00:00<00:00, 4522268.77it/s]\n",
      "100%|███████████████████████████████████████████████████████████████████| 1596753/1596753 [00:00<00:00, 4518003.83it/s]\n",
      "100%|███████████████████████████████████████████████████████████████████| 1596753/1596753 [00:00<00:00, 4496446.02it/s]\n",
      "100%|███████████████████████████████████████████████████████████████████| 1596753/1596753 [00:00<00:00, 4422171.05it/s]\n",
      "100%|███████████████████████████████████████████████████████████████████| 1596753/1596753 [00:00<00:00, 4484243.84it/s]\n",
      "100%|███████████████████████████████████████████████████████████████████| 1596753/1596753 [00:00<00:00, 4482275.07it/s]\n",
      "100%|███████████████████████████████████████████████████████████████████| 1596753/1596753 [00:00<00:00, 4457866.95it/s]\n",
      "100%|███████████████████████████████████████████████████████████████████| 1596753/1596753 [00:00<00:00, 4315775.24it/s]\n",
      "100%|███████████████████████████████████████████████████████████████████| 1596753/1596753 [00:00<00:00, 4471743.41it/s]\n",
      "100%|███████████████████████████████████████████████████████████████████| 1596753/1596753 [00:00<00:00, 4434398.42it/s]\n"
     ]
    },
    {
     "data": {
      "text/plain": [
       "0.7321518036072144"
      ]
     },
     "execution_count": 11,
     "metadata": {},
     "output_type": "execute_result"
    }
   ],
   "source": [
    "from sklearn.linear_model import LogisticRegression\n",
    "\n",
    "cores = multiprocessing.cpu_count()\n",
    "model_ug_dbow = Doc2Vec(dm=0, size=100, negative=5, min_count=2, workers=cores, alpha=0.065, min_alpha=0.065)\n",
    "model_ug_dbow.build_vocab([x for x in tqdm(all_x_w2v)])\n",
    "\n",
    "for epoch in range(30):\n",
    "    model_ug_dbow.train(utils.shuffle([x for x in tqdm(all_x_w2v)]), total_examples=len(all_x_w2v), epochs=1)\n",
    "    model_ug_dbow.alpha -= 0.002\n",
    "    model_ug_dbow.min_alpha = model_ug_dbow.alpha\n",
    "    \n",
    "def get_vectors(model, corpus, size):\n",
    "    vecs = np.zeros((len(corpus), size))\n",
    "    n = 0\n",
    "    for i in corpus.index:\n",
    "        prefix = 'all_' + str(i)\n",
    "        vecs[n] = model.docvecs[prefix]\n",
    "        n += 1\n",
    "    return vecs\n",
    "  \n",
    "train_vecs_dbow = get_vectors(model_ug_dbow, x_train, 100)\n",
    "validation_vecs_dbow = get_vectors(model_ug_dbow, x_validation, 100)\n",
    "\n",
    "clf = LogisticRegression()\n",
    "clf.fit(train_vecs_dbow, y_train)\n",
    "clf.score(validation_vecs_dbow, y_validation)"
   ]
  },
  {
   "cell_type": "code",
   "execution_count": 12,
   "metadata": {
    "scrolled": true
   },
   "outputs": [
    {
     "name": "stderr",
     "output_type": "stream",
     "text": [
      "C:\\ProgramData\\Anaconda3\\lib\\site-packages\\gensim\\models\\doc2vec.py:580: UserWarning: The parameter `size` is deprecated, will be removed in 4.0.0, use `vector_size` instead.\n",
      "  warnings.warn(\"The parameter `size` is deprecated, will be removed in 4.0.0, use `vector_size` instead.\")\n",
      "100%|███████████████████████████████████████████████████████████████████| 1596753/1596753 [00:00<00:00, 4169089.77it/s]\n",
      "100%|███████████████████████████████████████████████████████████████████| 1596753/1596753 [00:00<00:00, 4419553.41it/s]\n",
      "100%|███████████████████████████████████████████████████████████████████| 1596753/1596753 [00:00<00:00, 4350064.20it/s]\n",
      "100%|███████████████████████████████████████████████████████████████████| 1596753/1596753 [00:00<00:00, 4484679.24it/s]\n",
      "100%|███████████████████████████████████████████████████████████████████| 1596753/1596753 [00:00<00:00, 4471695.63it/s]\n",
      "100%|███████████████████████████████████████████████████████████████████| 1596753/1596753 [00:00<00:00, 4384770.32it/s]\n",
      "100%|███████████████████████████████████████████████████████████████████| 1596753/1596753 [00:00<00:00, 4434345.57it/s]\n",
      "100%|███████████████████████████████████████████████████████████████████| 1596753/1596753 [00:00<00:00, 4362458.10it/s]\n",
      "100%|███████████████████████████████████████████████████████████████████| 1596753/1596753 [00:00<00:00, 4372923.23it/s]\n",
      "100%|███████████████████████████████████████████████████████████████████| 1596753/1596753 [00:00<00:00, 4471979.29it/s]\n",
      "100%|███████████████████████████████████████████████████████████████████| 1596753/1596753 [00:00<00:00, 4472364.53it/s]\n",
      "100%|███████████████████████████████████████████████████████████████████| 1596753/1596753 [00:00<00:00, 4433520.70it/s]\n",
      "100%|███████████████████████████████████████████████████████████████████| 1596753/1596753 [00:00<00:00, 4434586.34it/s]\n",
      "100%|███████████████████████████████████████████████████████████████████| 1596753/1596753 [00:00<00:00, 4398477.83it/s]\n",
      "100%|███████████████████████████████████████████████████████████████████| 1596753/1596753 [00:00<00:00, 4471713.55it/s]\n",
      "100%|███████████████████████████████████████████████████████████████████| 1596753/1596753 [00:00<00:00, 4505684.52it/s]\n",
      "100%|███████████████████████████████████████████████████████████████████| 1596753/1596753 [00:00<00:00, 4434988.65it/s]\n",
      "100%|███████████████████████████████████████████████████████████████████| 1596753/1596753 [00:00<00:00, 4410353.61it/s]\n",
      "100%|███████████████████████████████████████████████████████████████████| 1596753/1596753 [00:00<00:00, 4446917.99it/s]\n",
      "100%|███████████████████████████████████████████████████████████████████| 1596753/1596753 [00:00<00:00, 4398752.28it/s]\n",
      "100%|███████████████████████████████████████████████████████████████████| 1596753/1596753 [00:00<00:00, 4360892.94it/s]\n",
      "100%|███████████████████████████████████████████████████████████████████| 1596753/1596753 [00:00<00:00, 4471964.36it/s]\n",
      "100%|███████████████████████████████████████████████████████████████████| 1596753/1596753 [00:00<00:00, 4408858.37it/s]\n",
      "100%|███████████████████████████████████████████████████████████████████| 1596753/1596753 [00:00<00:00, 4447118.78it/s]\n",
      "100%|███████████████████████████████████████████████████████████████████| 1596753/1596753 [00:00<00:00, 4455378.80it/s]\n",
      "100%|███████████████████████████████████████████████████████████████████| 1596753/1596753 [00:00<00:00, 4397894.38it/s]\n",
      "100%|███████████████████████████████████████████████████████████████████| 1596753/1596753 [00:00<00:00, 4496983.44it/s]\n",
      "100%|███████████████████████████████████████████████████████████████████| 1596753/1596753 [00:00<00:00, 4421391.56it/s]\n",
      "100%|███████████████████████████████████████████████████████████████████| 1596753/1596753 [00:00<00:00, 4398399.84it/s]\n",
      "100%|███████████████████████████████████████████████████████████████████| 1596753/1596753 [00:00<00:00, 4422317.05it/s]\n",
      "100%|███████████████████████████████████████████████████████████████████| 1596753/1596753 [00:00<00:00, 4459110.58it/s]\n"
     ]
    },
    {
     "data": {
      "text/plain": [
       "0.6429734468937875"
      ]
     },
     "execution_count": 12,
     "metadata": {},
     "output_type": "execute_result"
    }
   ],
   "source": [
    "cores = multiprocessing.cpu_count()\n",
    "model_ug_dmc = Doc2Vec(dm=1, dm_concat=1, size=100, window=2, negative=5, min_count=2, workers=cores, alpha=0.065, min_alpha=0.065)\n",
    "model_ug_dmc.build_vocab([x for x in tqdm(all_x_w2v)])\n",
    "\n",
    "for epoch in range(30):\n",
    "    model_ug_dmc.train(utils.shuffle([x for x in tqdm(all_x_w2v)]), total_examples=len(all_x_w2v), epochs=1)\n",
    "    model_ug_dmc.alpha -= 0.002\n",
    "    model_ug_dmc.min_alpha = model_ug_dmc.alpha\n",
    "   \n",
    "train_vecs_dmc = get_vectors(model_ug_dmc, x_train, 100)\n",
    "validation_vecs_dmc = get_vectors(model_ug_dmc, x_validation, 100)\n",
    "\n",
    "clf = LogisticRegression()\n",
    "clf.fit(train_vecs_dmc, y_train)\n",
    "clf.score(validation_vecs_dmc, y_validation)"
   ]
  },
  {
   "cell_type": "code",
   "execution_count": 14,
   "metadata": {},
   "outputs": [],
   "source": [
    "model_ug_dbow.save('d2v_model_ug_dbow.doc2vec')\n",
    "model_ug_dbow = Doc2Vec.load('d2v_model_ug_dbow.doc2vec')"
   ]
  },
  {
   "cell_type": "code",
   "execution_count": 15,
   "metadata": {},
   "outputs": [],
   "source": [
    "model_ug_dbow.delete_temporary_training_data(keep_doctags_vectors=True, keep_inference=True)"
   ]
  },
  {
   "cell_type": "code",
   "execution_count": null,
   "metadata": {},
   "outputs": [],
   "source": []
  },
  {
   "cell_type": "code",
   "execution_count": 17,
   "metadata": {},
   "outputs": [
    {
     "name": "stderr",
     "output_type": "stream",
     "text": [
      "C:\\ProgramData\\Anaconda3\\lib\\site-packages\\ipykernel_launcher.py:1: DeprecationWarning: Call to deprecated `most_similar` (Method will be removed in 4.0.0, use self.wv.most_similar() instead).\n",
      "  \"\"\"Entry point for launching an IPython kernel.\n"
     ]
    },
    {
     "data": {
      "text/plain": [
       "[('gud', 0.8061306476593018),\n",
       " ('gd', 0.7905820608139038),\n",
       " ('goood', 0.7326487302780151),\n",
       " ('gooood', 0.7122454047203064),\n",
       " ('great', 0.7097407579421997),\n",
       " ('goooood', 0.6845530271530151),\n",
       " ('goooooooooood', 0.680503249168396),\n",
       " ('chipper', 0.6639291644096375),\n",
       " ('ggod', 0.6568539142608643),\n",
       " ('goodly', 0.6566612720489502)]"
      ]
     },
     "execution_count": 17,
     "metadata": {},
     "output_type": "execute_result"
    }
   ],
   "source": [
    "model_ug_dmc.most_similar('good')"
   ]
  },
  {
   "cell_type": "code",
   "execution_count": 18,
   "metadata": {},
   "outputs": [
    {
     "name": "stderr",
     "output_type": "stream",
     "text": [
      "C:\\ProgramData\\Anaconda3\\lib\\site-packages\\ipykernel_launcher.py:1: DeprecationWarning: Call to deprecated `most_similar` (Method will be removed in 4.0.0, use self.wv.most_similar() instead).\n",
      "  \"\"\"Entry point for launching an IPython kernel.\n"
     ]
    },
    {
     "data": {
      "text/plain": [
       "[('happpy', 0.7243065237998962),\n",
       " ('hapy', 0.7178497910499573),\n",
       " ('happyy', 0.7007720470428467),\n",
       " ('tiiired', 0.64934241771698),\n",
       " ('thrilled', 0.6490528583526611),\n",
       " ('happppy', 0.646867573261261),\n",
       " ('sad', 0.6242313385009766),\n",
       " ('exited', 0.6223088502883911),\n",
       " ('goodly', 0.6210725903511047),\n",
       " ('excited', 0.615987241268158)]"
      ]
     },
     "execution_count": 18,
     "metadata": {},
     "output_type": "execute_result"
    }
   ],
   "source": [
    "model_ug_dmc.most_similar('happy')"
   ]
  },
  {
   "cell_type": "code",
   "execution_count": 19,
   "metadata": {},
   "outputs": [
    {
     "name": "stderr",
     "output_type": "stream",
     "text": [
      "C:\\ProgramData\\Anaconda3\\lib\\site-packages\\ipykernel_launcher.py:1: DeprecationWarning: Call to deprecated `most_similar` (Method will be removed in 4.0.0, use self.wv.most_similar() instead).\n",
      "  \"\"\"Entry point for launching an IPython kernel.\n"
     ]
    },
    {
     "data": {
      "text/plain": [
       "[('myspace', 0.8174248337745667),\n",
       " ('fb', 0.804806113243103),\n",
       " ('twitter', 0.7772223949432373),\n",
       " ('youtube', 0.7706779837608337),\n",
       " ('msn', 0.747029185295105),\n",
       " ('bebo', 0.7435846924781799),\n",
       " ('friendfeed', 0.7418317198753357),\n",
       " ('skype', 0.7394304275512695),\n",
       " ('stickam', 0.7292146682739258),\n",
       " ('xanga', 0.7084484100341797)]"
      ]
     },
     "execution_count": 19,
     "metadata": {},
     "output_type": "execute_result"
    }
   ],
   "source": [
    "model_ug_dmc.most_similar('facebook')"
   ]
  },
  {
   "cell_type": "code",
   "execution_count": 20,
   "metadata": {},
   "outputs": [
    {
     "name": "stderr",
     "output_type": "stream",
     "text": [
      "C:\\ProgramData\\Anaconda3\\lib\\site-packages\\ipykernel_launcher.py:1: DeprecationWarning: Call to deprecated `most_similar` (Method will be removed in 4.0.0, use self.wv.most_similar() instead).\n",
      "  \"\"\"Entry point for launching an IPython kernel.\n"
     ]
    },
    {
     "data": {
      "text/plain": [
       "[('smaller', 0.664108157157898),\n",
       " ('larger', 0.6025126576423645),\n",
       " ('healthier', 0.5905086994171143),\n",
       " ('shorter', 0.5695265531539917),\n",
       " ('browner', 0.5582768321037292),\n",
       " ('scarier', 0.5556405186653137),\n",
       " ('skinnier', 0.548711895942688),\n",
       " ('lamer', 0.543010950088501),\n",
       " ('bettterrr', 0.5427138805389404),\n",
       " ('diffrent', 0.5417512655258179)]"
      ]
     },
     "execution_count": 20,
     "metadata": {},
     "output_type": "execute_result"
    }
   ],
   "source": [
    "model_ug_dmc.most_similar(positive=['bigger', 'small'], negative=['big'])"
   ]
  },
  {
   "cell_type": "code",
   "execution_count": 21,
   "metadata": {},
   "outputs": [],
   "source": [
    "model_ug_dmc.save('d2v_model_ug_dmc.doc2vec')\n",
    "model_ug_dmc = Doc2Vec.load('d2v_model_ug_dmc.doc2vec')\n",
    "model_ug_dmc.delete_temporary_training_data(keep_doctags_vectors=True, keep_inference=True)"
   ]
  },
  {
   "cell_type": "code",
   "execution_count": 22,
   "metadata": {},
   "outputs": [
    {
     "name": "stderr",
     "output_type": "stream",
     "text": [
      "C:\\ProgramData\\Anaconda3\\lib\\site-packages\\gensim\\models\\doc2vec.py:580: UserWarning: The parameter `size` is deprecated, will be removed in 4.0.0, use `vector_size` instead.\n",
      "  warnings.warn(\"The parameter `size` is deprecated, will be removed in 4.0.0, use `vector_size` instead.\")\n",
      "100%|███████████████████████████████████████████████████████████████████| 1596753/1596753 [00:00<00:00, 4350208.31it/s]\n",
      "100%|███████████████████████████████████████████████████████████████████| 1596753/1596753 [00:00<00:00, 4422778.48it/s]\n",
      "100%|███████████████████████████████████████████████████████████████████| 1596753/1596753 [00:00<00:00, 4407108.93it/s]\n",
      "100%|███████████████████████████████████████████████████████████████████| 1596753/1596753 [00:00<00:00, 4362094.41it/s]\n",
      "100%|███████████████████████████████████████████████████████████████████| 1596753/1596753 [00:00<00:00, 4421806.08it/s]\n",
      "100%|███████████████████████████████████████████████████████████████████| 1596753/1596753 [00:01<00:00, 1202828.97it/s]\n",
      "100%|███████████████████████████████████████████████████████████████████| 1596753/1596753 [00:00<00:00, 4459074.95it/s]\n",
      "100%|███████████████████████████████████████████████████████████████████| 1596753/1596753 [00:00<00:00, 4410164.83it/s]\n",
      "100%|███████████████████████████████████████████████████████████████████| 1596753/1596753 [00:00<00:00, 4484063.69it/s]\n",
      "100%|███████████████████████████████████████████████████████████████████| 1596753/1596753 [00:00<00:00, 4469821.40it/s]\n",
      "100%|███████████████████████████████████████████████████████████████████| 1596753/1596753 [00:00<00:00, 4507027.77it/s]\n",
      "100%|███████████████████████████████████████████████████████████████████| 1596753/1596753 [00:00<00:00, 4558469.89it/s]\n",
      "100%|███████████████████████████████████████████████████████████████████| 1596753/1596753 [00:00<00:00, 4561882.32it/s]\n",
      "100%|███████████████████████████████████████████████████████████████████| 1596753/1596753 [00:00<00:00, 4423193.26it/s]\n",
      "100%|███████████████████████████████████████████████████████████████████| 1596753/1596753 [00:00<00:00, 4561323.06it/s]\n",
      "100%|███████████████████████████████████████████████████████████████████| 1596753/1596753 [00:00<00:00, 4409125.41it/s]\n",
      "100%|███████████████████████████████████████████████████████████████████| 1596753/1596753 [00:00<00:00, 4484081.71it/s]\n",
      "100%|███████████████████████████████████████████████████████████████████| 1596753/1596753 [00:00<00:00, 4547772.11it/s]\n",
      "100%|███████████████████████████████████████████████████████████████████| 1596753/1596753 [00:00<00:00, 4434580.46it/s]\n",
      "100%|███████████████████████████████████████████████████████████████████| 1596753/1596753 [00:00<00:00, 4496714.71it/s]\n",
      "100%|███████████████████████████████████████████████████████████████████| 1596753/1596753 [00:00<00:00, 4459680.69it/s]\n",
      "100%|███████████████████████████████████████████████████████████████████| 1596753/1596753 [00:00<00:00, 4369411.23it/s]\n",
      "100%|███████████████████████████████████████████████████████████████████| 1596753/1596753 [00:00<00:00, 4497270.32it/s]\n",
      "100%|███████████████████████████████████████████████████████████████████| 1596753/1596753 [00:00<00:00, 2109386.22it/s]\n",
      "100%|███████████████████████████████████████████████████████████████████| 1596753/1596753 [00:00<00:00, 2236061.32it/s]\n",
      "100%|███████████████████████████████████████████████████████████████████| 1596753/1596753 [00:00<00:00, 4574186.35it/s]\n",
      "100%|███████████████████████████████████████████████████████████████████| 1596753/1596753 [00:00<00:00, 4442670.15it/s]\n",
      "100%|███████████████████████████████████████████████████████████████████| 1596753/1596753 [00:00<00:00, 4483028.16it/s]\n",
      "100%|███████████████████████████████████████████████████████████████████| 1596753/1596753 [00:00<00:00, 4470474.81it/s]\n",
      "100%|███████████████████████████████████████████████████████████████████| 1596753/1596753 [00:00<00:00, 4422340.41it/s]\n",
      "100%|███████████████████████████████████████████████████████████████████| 1596753/1596753 [00:00<00:00, 4510351.44it/s]\n"
     ]
    },
    {
     "data": {
      "text/plain": [
       "0.7277680360721442"
      ]
     },
     "execution_count": 22,
     "metadata": {},
     "output_type": "execute_result"
    }
   ],
   "source": [
    "cores = multiprocessing.cpu_count()\n",
    "model_ug_dmm = Doc2Vec(dm=1, dm_mean=1, size=100, window=4, negative=5, min_count=2, workers=cores, alpha=0.065, min_alpha=0.065)\n",
    "model_ug_dmm.build_vocab([x for x in tqdm(all_x_w2v)])\n",
    "\n",
    "for epoch in range(30):\n",
    "    model_ug_dmm.train(utils.shuffle([x for x in tqdm(all_x_w2v)]), total_examples=len(all_x_w2v), epochs=1)\n",
    "    model_ug_dmm.alpha -= 0.002\n",
    "    model_ug_dmm.min_alpha = model_ug_dmm.alpha\n",
    "    \n",
    "train_vecs_dmm = get_vectors(model_ug_dmm, x_train, 100)\n",
    "validation_vecs_dmm = get_vectors(model_ug_dmm, x_validation, 100)\n",
    "\n",
    "clf = LogisticRegression()\n",
    "clf.fit(train_vecs_dmm, y_train)\n",
    "clf.score(validation_vecs_dmm, y_validation)"
   ]
  },
  {
   "cell_type": "code",
   "execution_count": 23,
   "metadata": {},
   "outputs": [
    {
     "name": "stderr",
     "output_type": "stream",
     "text": [
      "C:\\ProgramData\\Anaconda3\\lib\\site-packages\\ipykernel_launcher.py:1: DeprecationWarning: Call to deprecated `most_similar` (Method will be removed in 4.0.0, use self.wv.most_similar() instead).\n",
      "  \"\"\"Entry point for launching an IPython kernel.\n"
     ]
    },
    {
     "data": {
      "text/plain": [
       "[('great', 0.9150204658508301),\n",
       " ('nice', 0.8941739797592163),\n",
       " ('bad', 0.8900538086891174),\n",
       " ('busy', 0.8809934854507446),\n",
       " ('tough', 0.8744451999664307),\n",
       " ('long', 0.8664904832839966),\n",
       " ('wonderful', 0.8581757545471191),\n",
       " ('weird', 0.8553192615509033),\n",
       " ('late', 0.8461212515830994),\n",
       " ('sad', 0.8454421758651733)]"
      ]
     },
     "execution_count": 23,
     "metadata": {},
     "output_type": "execute_result"
    }
   ],
   "source": [
    "model_ug_dmm.most_similar('good')"
   ]
  },
  {
   "cell_type": "code",
   "execution_count": 24,
   "metadata": {},
   "outputs": [
    {
     "name": "stderr",
     "output_type": "stream",
     "text": [
      "C:\\ProgramData\\Anaconda3\\lib\\site-packages\\ipykernel_launcher.py:1: DeprecationWarning: Call to deprecated `most_similar` (Method will be removed in 4.0.0, use self.wv.most_similar() instead).\n",
      "  \"\"\"Entry point for launching an IPython kernel.\n"
     ]
    },
    {
     "data": {
      "text/plain": [
       "[('happpy', 0.7243065237998962),\n",
       " ('hapy', 0.7178497910499573),\n",
       " ('happyy', 0.7007720470428467),\n",
       " ('tiiired', 0.64934241771698),\n",
       " ('thrilled', 0.6490528583526611),\n",
       " ('happppy', 0.646867573261261),\n",
       " ('sad', 0.6242313385009766),\n",
       " ('exited', 0.6223088502883911),\n",
       " ('goodly', 0.6210725903511047),\n",
       " ('excited', 0.615987241268158)]"
      ]
     },
     "execution_count": 24,
     "metadata": {},
     "output_type": "execute_result"
    }
   ],
   "source": [
    "model_ug_dmc.most_similar('happy')"
   ]
  },
  {
   "cell_type": "code",
   "execution_count": 25,
   "metadata": {},
   "outputs": [],
   "source": [
    "model_ug_dmm.save('d2v_model_ug_dmm.doc2vec')\n",
    "model_ug_dmm = Doc2Vec.load('d2v_model_ug_dmm.doc2vec')\n",
    "model_ug_dmm.delete_temporary_training_data(keep_doctags_vectors=True, keep_inference=True)"
   ]
  },
  {
   "cell_type": "code",
   "execution_count": null,
   "metadata": {},
   "outputs": [],
   "source": []
  },
  {
   "cell_type": "code",
   "execution_count": 27,
   "metadata": {},
   "outputs": [
    {
     "data": {
      "text/plain": [
       "0.7432990981963928"
      ]
     },
     "execution_count": 27,
     "metadata": {},
     "output_type": "execute_result"
    }
   ],
   "source": [
    "def get_concat_vectors(model1,model2, corpus, size):\n",
    "    vecs = np.zeros((len(corpus), size))\n",
    "    n = 0\n",
    "    for i in corpus.index:\n",
    "        prefix = 'all_' + str(i)\n",
    "        vecs[n] = np.append(model1.docvecs[prefix],model2.docvecs[prefix])\n",
    "        n += 1\n",
    "    return vecs\n",
    "\n",
    "train_vecs_dbow_dmc = get_concat_vectors(model_ug_dbow,model_ug_dmc, x_train, 200)\n",
    "validation_vecs_dbow_dmc = get_concat_vectors(model_ug_dbow,model_ug_dmc, x_validation, 200)\n",
    "\n",
    "clf = LogisticRegression()\n",
    "clf.fit(train_vecs_dbow_dmc, y_train)\n",
    "clf.score(validation_vecs_dbow_dmc, y_validation)"
   ]
  },
  {
   "cell_type": "code",
   "execution_count": 28,
   "metadata": {},
   "outputs": [
    {
     "data": {
      "text/plain": [
       "0.748935370741483"
      ]
     },
     "execution_count": 28,
     "metadata": {},
     "output_type": "execute_result"
    }
   ],
   "source": [
    "train_vecs_dbow_dmm = get_concat_vectors(model_ug_dbow,model_ug_dmm, x_train, 200)\n",
    "validation_vecs_dbow_dmm = get_concat_vectors(model_ug_dbow,model_ug_dmm, x_validation, 200)\n",
    "\n",
    "\n",
    "clf = LogisticRegression()\n",
    "clf.fit(train_vecs_dbow_dmm, y_train)\n",
    "clf.score(validation_vecs_dbow_dmm, y_validation)"
   ]
  },
  {
   "cell_type": "code",
   "execution_count": null,
   "metadata": {},
   "outputs": [],
   "source": []
  },
  {
   "cell_type": "code",
   "execution_count": null,
   "metadata": {},
   "outputs": [],
   "source": []
  }
 ],
 "metadata": {
  "kernelspec": {
   "display_name": "Python 3",
   "language": "python",
   "name": "python3"
  },
  "language_info": {
   "codemirror_mode": {
    "name": "ipython",
    "version": 3
   },
   "file_extension": ".py",
   "mimetype": "text/x-python",
   "name": "python",
   "nbconvert_exporter": "python",
   "pygments_lexer": "ipython3",
   "version": "3.6.8"
  }
 },
 "nbformat": 4,
 "nbformat_minor": 2
}
